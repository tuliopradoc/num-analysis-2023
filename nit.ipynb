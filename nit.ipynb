{
  "nbformat": 4,
  "nbformat_minor": 0,
  "metadata": {
    "colab": {
      "provenance": [],
      "mount_file_id": "1hjA-2v-xujUVudp3HY9M9Q1dGywb4Oml",
      "authorship_tag": "ABX9TyNs9XAX2vRfcSq/Ft1Qecgd",
      "include_colab_link": true
    },
    "kernelspec": {
      "name": "python3",
      "display_name": "Python 3"
    },
    "language_info": {
      "name": "python"
    }
  },
  "cells": [
    {
      "cell_type": "markdown",
      "metadata": {
        "id": "view-in-github",
        "colab_type": "text"
      },
      "source": [
        "<a href=\"https://colab.research.google.com/github/tuliopradoc/num-analysis-2023/blob/main/nit.ipynb\" target=\"_parent\"><img src=\"https://colab.research.google.com/assets/colab-badge.svg\" alt=\"Open In Colab\"/></a>"
      ]
    },
    {
      "cell_type": "code",
      "execution_count": null,
      "metadata": {
        "id": "pHswJZ9Oed81"
      },
      "outputs": [],
      "source": [
        "import pandas as pd\n",
        "from matplotlib import pyplot as plt\n",
        "import numpy as np\n",
        "import seaborn as sns\n",
        "sns.set()"
      ]
    },
    {
      "cell_type": "code",
      "source": [
        "nit = pd.read_csv(\"/content/drive/MyDrive/nit/data.csv\", encoding = \"ISO-8859-1\", header = None, float_precision = 'round_trip')"
      ],
      "metadata": {
        "id": "z5LmSr6si_ic"
      },
      "execution_count": null,
      "outputs": []
    },
    {
      "cell_type": "code",
      "source": [
        "nit"
      ],
      "metadata": {
        "colab": {
          "base_uri": "https://localhost:8080/",
          "height": 254
        },
        "id": "3z9kLtDBjPiX",
        "outputId": "4f978714-2843-4ef3-c283-5d874104d299"
      },
      "execution_count": null,
      "outputs": [
        {
          "output_type": "execute_result",
          "data": {
            "text/plain": [
              "                   0                     1                     2    \\\n",
              "0   1.0000000000000000   0.91644508883900255   0.82431412866232068   \n",
              "1   1.2200000000000000    1.1280895260254884    1.0543076723432359   \n",
              "2   1.0000000000000000    1.1594177500000000    1.3277178944755912   \n",
              "\n",
              "                    3                     4                     5    \\\n",
              "0   0.72634166004474543   0.62625742172763921   0.52824748190647142   \n",
              "1   0.99532234876589620   0.94841073910987406   0.91132476677106267   \n",
              "2    1.4991217149163523    1.6667615389372870    1.8236069403478541   \n",
              "\n",
              "                    6                     7                     8    \\\n",
              "0   0.43626771827991750   0.35341420168736526   0.28154521653439302   \n",
              "1   0.88219583615629316   0.85947140578349535   0.84187369716164673   \n",
              "2    1.9635599456288035    2.0823796449390493    2.1781401229114996   \n",
              "\n",
              "                    9    ...                       231  \\\n",
              "0   0.22123772238956674  ...   0.35633265031248565E-18   \n",
              "1   0.82836912937047846  ...        1.0873673437833085   \n",
              "2    2.2511263554481027  ...        1.6019558057952201   \n",
              "\n",
              "                        232                       233  \\\n",
              "0   0.30240127634572101E-18   0.25663729497283710E-18   \n",
              "1        1.0874506809643034        1.0875324300425520   \n",
              "2        1.6018067200465307        1.6016604817503606   \n",
              "\n",
              "                        234                       235  \\\n",
              "0   0.21780302627928336E-18   0.18484848238248733E-18   \n",
              "1        1.0876126215575965        1.0876912854513587   \n",
              "2        1.6015170359039728        1.6013763285904172   \n",
              "\n",
              "                        236                       237  \\\n",
              "0   0.15688288162545874E-18   0.13315048982383837E-18   \n",
              "1        1.0877684510802197        1.0878441472268419   \n",
              "2        1.6012383069562177        1.6011029191895494   \n",
              "\n",
              "                        238                       239  \\\n",
              "0   0.11301013064125323E-18   0.95917807311730174E-19   \n",
              "1        1.0879184021117387        1.0879912434045977   \n",
              "2        1.6009701144988961        1.6008398430921758   \n",
              "\n",
              "                        240  \n",
              "0   0.81411962810788193E-19  \n",
              "1        1.0880626982353629  \n",
              "2        1.6007120561563211  \n",
              "\n",
              "[3 rows x 241 columns]"
            ],
            "text/html": [
              "\n",
              "  <div id=\"df-bcd88615-c7aa-4c8d-8d0d-be2505a553dd\">\n",
              "    <div class=\"colab-df-container\">\n",
              "      <div>\n",
              "<style scoped>\n",
              "    .dataframe tbody tr th:only-of-type {\n",
              "        vertical-align: middle;\n",
              "    }\n",
              "\n",
              "    .dataframe tbody tr th {\n",
              "        vertical-align: top;\n",
              "    }\n",
              "\n",
              "    .dataframe thead th {\n",
              "        text-align: right;\n",
              "    }\n",
              "</style>\n",
              "<table border=\"1\" class=\"dataframe\">\n",
              "  <thead>\n",
              "    <tr style=\"text-align: right;\">\n",
              "      <th></th>\n",
              "      <th>0</th>\n",
              "      <th>1</th>\n",
              "      <th>2</th>\n",
              "      <th>3</th>\n",
              "      <th>4</th>\n",
              "      <th>5</th>\n",
              "      <th>6</th>\n",
              "      <th>7</th>\n",
              "      <th>8</th>\n",
              "      <th>9</th>\n",
              "      <th>...</th>\n",
              "      <th>231</th>\n",
              "      <th>232</th>\n",
              "      <th>233</th>\n",
              "      <th>234</th>\n",
              "      <th>235</th>\n",
              "      <th>236</th>\n",
              "      <th>237</th>\n",
              "      <th>238</th>\n",
              "      <th>239</th>\n",
              "      <th>240</th>\n",
              "    </tr>\n",
              "  </thead>\n",
              "  <tbody>\n",
              "    <tr>\n",
              "      <th>0</th>\n",
              "      <td>1.0000000000000000</td>\n",
              "      <td>0.91644508883900255</td>\n",
              "      <td>0.82431412866232068</td>\n",
              "      <td>0.72634166004474543</td>\n",
              "      <td>0.62625742172763921</td>\n",
              "      <td>0.52824748190647142</td>\n",
              "      <td>0.43626771827991750</td>\n",
              "      <td>0.35341420168736526</td>\n",
              "      <td>0.28154521653439302</td>\n",
              "      <td>0.22123772238956674</td>\n",
              "      <td>...</td>\n",
              "      <td>0.35633265031248565E-18</td>\n",
              "      <td>0.30240127634572101E-18</td>\n",
              "      <td>0.25663729497283710E-18</td>\n",
              "      <td>0.21780302627928336E-18</td>\n",
              "      <td>0.18484848238248733E-18</td>\n",
              "      <td>0.15688288162545874E-18</td>\n",
              "      <td>0.13315048982383837E-18</td>\n",
              "      <td>0.11301013064125323E-18</td>\n",
              "      <td>0.95917807311730174E-19</td>\n",
              "      <td>0.81411962810788193E-19</td>\n",
              "    </tr>\n",
              "    <tr>\n",
              "      <th>1</th>\n",
              "      <td>1.2200000000000000</td>\n",
              "      <td>1.1280895260254884</td>\n",
              "      <td>1.0543076723432359</td>\n",
              "      <td>0.99532234876589620</td>\n",
              "      <td>0.94841073910987406</td>\n",
              "      <td>0.91132476677106267</td>\n",
              "      <td>0.88219583615629316</td>\n",
              "      <td>0.85947140578349535</td>\n",
              "      <td>0.84187369716164673</td>\n",
              "      <td>0.82836912937047846</td>\n",
              "      <td>...</td>\n",
              "      <td>1.0873673437833085</td>\n",
              "      <td>1.0874506809643034</td>\n",
              "      <td>1.0875324300425520</td>\n",
              "      <td>1.0876126215575965</td>\n",
              "      <td>1.0876912854513587</td>\n",
              "      <td>1.0877684510802197</td>\n",
              "      <td>1.0878441472268419</td>\n",
              "      <td>1.0879184021117387</td>\n",
              "      <td>1.0879912434045977</td>\n",
              "      <td>1.0880626982353629</td>\n",
              "    </tr>\n",
              "    <tr>\n",
              "      <th>2</th>\n",
              "      <td>1.0000000000000000</td>\n",
              "      <td>1.1594177500000000</td>\n",
              "      <td>1.3277178944755912</td>\n",
              "      <td>1.4991217149163523</td>\n",
              "      <td>1.6667615389372870</td>\n",
              "      <td>1.8236069403478541</td>\n",
              "      <td>1.9635599456288035</td>\n",
              "      <td>2.0823796449390493</td>\n",
              "      <td>2.1781401229114996</td>\n",
              "      <td>2.2511263554481027</td>\n",
              "      <td>...</td>\n",
              "      <td>1.6019558057952201</td>\n",
              "      <td>1.6018067200465307</td>\n",
              "      <td>1.6016604817503606</td>\n",
              "      <td>1.6015170359039728</td>\n",
              "      <td>1.6013763285904172</td>\n",
              "      <td>1.6012383069562177</td>\n",
              "      <td>1.6011029191895494</td>\n",
              "      <td>1.6009701144988961</td>\n",
              "      <td>1.6008398430921758</td>\n",
              "      <td>1.6007120561563211</td>\n",
              "    </tr>\n",
              "  </tbody>\n",
              "</table>\n",
              "<p>3 rows × 241 columns</p>\n",
              "</div>\n",
              "      <button class=\"colab-df-convert\" onclick=\"convertToInteractive('df-bcd88615-c7aa-4c8d-8d0d-be2505a553dd')\"\n",
              "              title=\"Convert this dataframe to an interactive table.\"\n",
              "              style=\"display:none;\">\n",
              "        \n",
              "  <svg xmlns=\"http://www.w3.org/2000/svg\" height=\"24px\"viewBox=\"0 0 24 24\"\n",
              "       width=\"24px\">\n",
              "    <path d=\"M0 0h24v24H0V0z\" fill=\"none\"/>\n",
              "    <path d=\"M18.56 5.44l.94 2.06.94-2.06 2.06-.94-2.06-.94-.94-2.06-.94 2.06-2.06.94zm-11 1L8.5 8.5l.94-2.06 2.06-.94-2.06-.94L8.5 2.5l-.94 2.06-2.06.94zm10 10l.94 2.06.94-2.06 2.06-.94-2.06-.94-.94-2.06-.94 2.06-2.06.94z\"/><path d=\"M17.41 7.96l-1.37-1.37c-.4-.4-.92-.59-1.43-.59-.52 0-1.04.2-1.43.59L10.3 9.45l-7.72 7.72c-.78.78-.78 2.05 0 2.83L4 21.41c.39.39.9.59 1.41.59.51 0 1.02-.2 1.41-.59l7.78-7.78 2.81-2.81c.8-.78.8-2.07 0-2.86zM5.41 20L4 18.59l7.72-7.72 1.47 1.35L5.41 20z\"/>\n",
              "  </svg>\n",
              "      </button>\n",
              "      \n",
              "  <style>\n",
              "    .colab-df-container {\n",
              "      display:flex;\n",
              "      flex-wrap:wrap;\n",
              "      gap: 12px;\n",
              "    }\n",
              "\n",
              "    .colab-df-convert {\n",
              "      background-color: #E8F0FE;\n",
              "      border: none;\n",
              "      border-radius: 50%;\n",
              "      cursor: pointer;\n",
              "      display: none;\n",
              "      fill: #1967D2;\n",
              "      height: 32px;\n",
              "      padding: 0 0 0 0;\n",
              "      width: 32px;\n",
              "    }\n",
              "\n",
              "    .colab-df-convert:hover {\n",
              "      background-color: #E2EBFA;\n",
              "      box-shadow: 0px 1px 2px rgba(60, 64, 67, 0.3), 0px 1px 3px 1px rgba(60, 64, 67, 0.15);\n",
              "      fill: #174EA6;\n",
              "    }\n",
              "\n",
              "    [theme=dark] .colab-df-convert {\n",
              "      background-color: #3B4455;\n",
              "      fill: #D2E3FC;\n",
              "    }\n",
              "\n",
              "    [theme=dark] .colab-df-convert:hover {\n",
              "      background-color: #434B5C;\n",
              "      box-shadow: 0px 1px 3px 1px rgba(0, 0, 0, 0.15);\n",
              "      filter: drop-shadow(0px 1px 2px rgba(0, 0, 0, 0.3));\n",
              "      fill: #FFFFFF;\n",
              "    }\n",
              "  </style>\n",
              "\n",
              "      <script>\n",
              "        const buttonEl =\n",
              "          document.querySelector('#df-bcd88615-c7aa-4c8d-8d0d-be2505a553dd button.colab-df-convert');\n",
              "        buttonEl.style.display =\n",
              "          google.colab.kernel.accessAllowed ? 'block' : 'none';\n",
              "\n",
              "        async function convertToInteractive(key) {\n",
              "          const element = document.querySelector('#df-bcd88615-c7aa-4c8d-8d0d-be2505a553dd');\n",
              "          const dataTable =\n",
              "            await google.colab.kernel.invokeFunction('convertToInteractive',\n",
              "                                                     [key], {});\n",
              "          if (!dataTable) return;\n",
              "\n",
              "          const docLinkHtml = 'Like what you see? Visit the ' +\n",
              "            '<a target=\"_blank\" href=https://colab.research.google.com/notebooks/data_table.ipynb>data table notebook</a>'\n",
              "            + ' to learn more about interactive tables.';\n",
              "          element.innerHTML = '';\n",
              "          dataTable['output_type'] = 'display_data';\n",
              "          await google.colab.output.renderOutput(dataTable, element);\n",
              "          const docLink = document.createElement('div');\n",
              "          docLink.innerHTML = docLinkHtml;\n",
              "          element.appendChild(docLink);\n",
              "        }\n",
              "      </script>\n",
              "    </div>\n",
              "  </div>\n",
              "  "
            ]
          },
          "metadata": {},
          "execution_count": 42
        }
      ]
    },
    {
      "cell_type": "code",
      "source": [
        "cols = nit.columns\n",
        "for col in cols:\n",
        "    nit[col] = nit[col].astype(float)"
      ],
      "metadata": {
        "id": "EhoIMK5N0loi"
      },
      "execution_count": null,
      "outputs": []
    },
    {
      "cell_type": "code",
      "source": [
        "x = np.array([i*0.125 for i in range(0,241)])\n",
        "N = nit.iloc[0].to_numpy()\n",
        "I = nit.iloc[1].to_numpy()\n",
        "T = nit.iloc[2].to_numpy()"
      ],
      "metadata": {
        "id": "6p1DTqtUqpFk"
      },
      "execution_count": null,
      "outputs": []
    },
    {
      "cell_type": "markdown",
      "source": [
        "# **Gráfico**"
      ],
      "metadata": {
        "id": "rvbHJNk54yjC"
      }
    },
    {
      "cell_type": "code",
      "source": [
        "fig, axs = plt.subplots(figsize = (15,10))\n",
        "\n",
        "axs.plot(x, N,label = \"Normal cells\", color = 'blue')\n",
        "axs.plot(x, I,label = \"Immune cells\", color = 'green')\n",
        "axs.plot(x, T,label = \"Tumor cells\", color = 'red')\n",
        "axs.legend(bbox_to_anchor = (1,1), loc = 0, borderaxespad = 0.)"
      ],
      "metadata": {
        "colab": {
          "base_uri": "https://localhost:8080/",
          "height": 611
        },
        "id": "cZfk8bmFsHsV",
        "outputId": "af9d8d91-a1b8-438f-80e2-4f13c8481755"
      },
      "execution_count": null,
      "outputs": [
        {
          "output_type": "execute_result",
          "data": {
            "text/plain": [
              "<matplotlib.legend.Legend at 0x7f21436162b0>"
            ]
          },
          "metadata": {},
          "execution_count": 70
        },
        {
          "output_type": "display_data",
          "data": {
            "text/plain": [
              "<Figure size 1080x720 with 1 Axes>"
            ],
            "image/png": "[encoded data removed]"
          },
          "metadata": {}
        }
      ]
    }
  ]
}